{
 "cells": [
  {
   "cell_type": "markdown",
   "metadata": {},
   "source": [
    "#### Import Essential Library"
   ]
  },
  {
   "cell_type": "code",
   "execution_count": null,
   "metadata": {},
   "outputs": [],
   "source": [
    "!pip install seaborn"
   ]
  },
  {
   "cell_type": "code",
   "execution_count": 46,
   "metadata": {},
   "outputs": [],
   "source": [
    "import pandas as pd\n",
    "import numpy as np\n",
    "import matplotlib as plt\n",
    "import sklearn as sk\n",
    "import seaborn as sb\n",
    "%matplotlib inline"
   ]
  },
  {
   "cell_type": "code",
   "execution_count": 47,
   "metadata": {},
   "outputs": [
    {
     "name": "stdout",
     "output_type": "stream",
     "text": [
      "pandas version: 2.0.3\n",
      "numpy version: 1.25.2\n",
      "matplotlib version: 3.7.2\n",
      "sklearn version: 1.3.0\n",
      "seaborn version: 0.12.2\n"
     ]
    }
   ],
   "source": [
    "print('pandas version:', pd.__version__)\n",
    "print('numpy version:', np.__version__)\n",
    "print('matplotlib version:', plt.__version__)\n",
    "print('sklearn version:', sk.__version__)\n",
    "print('seaborn version:', sb.__version__)"
   ]
  },
  {
   "cell_type": "markdown",
   "metadata": {},
   "source": [
    "#### Load data"
   ]
  },
  {
   "cell_type": "code",
   "execution_count": null,
   "metadata": {},
   "outputs": [],
   "source": [
    "data = pd.read_csv('dataset/sale_data.csv')\n",
    "data = data.drop(columns=['Unnamed: 0'])"
   ]
  },
  {
   "cell_type": "code",
   "execution_count": null,
   "metadata": {},
   "outputs": [],
   "source": [
    "data.describe()\n",
    "data"
   ]
  },
  {
   "cell_type": "code",
   "execution_count": null,
   "metadata": {},
   "outputs": [],
   "source": [
    "data.info()"
   ]
  },
  {
   "cell_type": "markdown",
   "metadata": {},
   "source": [
    "#### Prepare data for analysis"
   ]
  },
  {
   "cell_type": "code",
   "execution_count": null,
   "metadata": {},
   "outputs": [],
   "source": [
    "data = data[data['Country'].notnull()]\n",
    "\n",
    "data = data.dropna()\n",
    "\n",
    "data.info"
   ]
  },
  {
   "cell_type": "code",
   "execution_count": null,
   "metadata": {},
   "outputs": [],
   "source": [
    "# rename column\n",
    "data = data.rename(columns={\n",
    "    'Item Type': 'IType',\n",
    "    'Order Date': 'ODate'\n",
    "    })\n",
    "\n",
    "list(data.columns)"
   ]
  },
  {
   "cell_type": "code",
   "execution_count": null,
   "metadata": {},
   "outputs": [],
   "source": [
    "data['%margin'] = (data['Total Profit'] / data['Total Revenue'] * 100).round(2)\n",
    "# data.head()"
   ]
  },
  {
   "cell_type": "code",
   "execution_count": null,
   "metadata": {},
   "outputs": [],
   "source": [
    "# x => total revenue, y => total profit\n",
    "sb.lmplot(x='Total Revenue', y='Total Profit', data=data, ci=None)  # ci = confident interval"
   ]
  },
  {
   "cell_type": "code",
   "execution_count": null,
   "metadata": {},
   "outputs": [],
   "source": [
    "data.loc[data['Total Profit'].idxmax()]"
   ]
  },
  {
   "cell_type": "code",
   "execution_count": null,
   "metadata": {},
   "outputs": [],
   "source": [
    "data.sort_values(\"Total Profit\", ascending=False).head(10)"
   ]
  },
  {
   "cell_type": "code",
   "execution_count": null,
   "metadata": {},
   "outputs": [],
   "source": [
    "data = data.drop(1500005)"
   ]
  },
  {
   "cell_type": "code",
   "execution_count": 39,
   "metadata": {},
   "outputs": [
    {
     "data": {
      "text/html": [
       "<div>\n",
       "<style scoped>\n",
       "    .dataframe tbody tr th:only-of-type {\n",
       "        vertical-align: middle;\n",
       "    }\n",
       "\n",
       "    .dataframe tbody tr th {\n",
       "        vertical-align: top;\n",
       "    }\n",
       "\n",
       "    .dataframe thead th {\n",
       "        text-align: right;\n",
       "    }\n",
       "</style>\n",
       "<table border=\"1\" class=\"dataframe\">\n",
       "  <thead>\n",
       "    <tr style=\"text-align: right;\">\n",
       "      <th></th>\n",
       "      <th>Region</th>\n",
       "      <th>Country</th>\n",
       "      <th>IType</th>\n",
       "      <th>Sales Channel</th>\n",
       "      <th>Order Priority</th>\n",
       "      <th>ODate</th>\n",
       "      <th>Order ID</th>\n",
       "      <th>Ship Date</th>\n",
       "      <th>Units Sold</th>\n",
       "      <th>Unit Price</th>\n",
       "      <th>Unit Cost</th>\n",
       "      <th>Total Revenue</th>\n",
       "      <th>Total Cost</th>\n",
       "      <th>Total Profit</th>\n",
       "      <th>%margin</th>\n",
       "    </tr>\n",
       "  </thead>\n",
       "  <tbody>\n",
       "    <tr>\n",
       "      <th>969307</th>\n",
       "      <td>Sub-Saharan Africa</td>\n",
       "      <td>South Sudan</td>\n",
       "      <td>Cosmetics</td>\n",
       "      <td>Offline</td>\n",
       "      <td>L</td>\n",
       "      <td>4/3/2016</td>\n",
       "      <td>462591636</td>\n",
       "      <td>4/30/2016</td>\n",
       "      <td>10000</td>\n",
       "      <td>437.2</td>\n",
       "      <td>263.33</td>\n",
       "      <td>4372000.0</td>\n",
       "      <td>2633300.0</td>\n",
       "      <td>1738700.0</td>\n",
       "      <td>39.77</td>\n",
       "    </tr>\n",
       "    <tr>\n",
       "      <th>619998</th>\n",
       "      <td>Central America and the Caribbean</td>\n",
       "      <td>Saint Vincent and the Grenadines</td>\n",
       "      <td>Cosmetics</td>\n",
       "      <td>Offline</td>\n",
       "      <td>C</td>\n",
       "      <td>2/11/2016</td>\n",
       "      <td>296771037</td>\n",
       "      <td>3/23/2016</td>\n",
       "      <td>10000</td>\n",
       "      <td>437.2</td>\n",
       "      <td>263.33</td>\n",
       "      <td>4372000.0</td>\n",
       "      <td>2633300.0</td>\n",
       "      <td>1738700.0</td>\n",
       "      <td>39.77</td>\n",
       "    </tr>\n",
       "    <tr>\n",
       "      <th>942016</th>\n",
       "      <td>Middle East and North Africa</td>\n",
       "      <td>United Arab Emirates</td>\n",
       "      <td>Cosmetics</td>\n",
       "      <td>Offline</td>\n",
       "      <td>L</td>\n",
       "      <td>3/8/2016</td>\n",
       "      <td>829681336</td>\n",
       "      <td>4/11/2016</td>\n",
       "      <td>10000</td>\n",
       "      <td>437.2</td>\n",
       "      <td>263.33</td>\n",
       "      <td>4372000.0</td>\n",
       "      <td>2633300.0</td>\n",
       "      <td>1738700.0</td>\n",
       "      <td>39.77</td>\n",
       "    </tr>\n",
       "    <tr>\n",
       "      <th>275470</th>\n",
       "      <td>Sub-Saharan Africa</td>\n",
       "      <td>Senegal</td>\n",
       "      <td>Cosmetics</td>\n",
       "      <td>Online</td>\n",
       "      <td>M</td>\n",
       "      <td>2/18/2016</td>\n",
       "      <td>174407804</td>\n",
       "      <td>2/22/2016</td>\n",
       "      <td>10000</td>\n",
       "      <td>437.2</td>\n",
       "      <td>263.33</td>\n",
       "      <td>4372000.0</td>\n",
       "      <td>2633300.0</td>\n",
       "      <td>1738700.0</td>\n",
       "      <td>39.77</td>\n",
       "    </tr>\n",
       "    <tr>\n",
       "      <th>1218962</th>\n",
       "      <td>Sub-Saharan Africa</td>\n",
       "      <td>Botswana</td>\n",
       "      <td>Cosmetics</td>\n",
       "      <td>Offline</td>\n",
       "      <td>C</td>\n",
       "      <td>3/25/2016</td>\n",
       "      <td>584954869</td>\n",
       "      <td>4/6/2016</td>\n",
       "      <td>10000</td>\n",
       "      <td>437.2</td>\n",
       "      <td>263.33</td>\n",
       "      <td>4372000.0</td>\n",
       "      <td>2633300.0</td>\n",
       "      <td>1738700.0</td>\n",
       "      <td>39.77</td>\n",
       "    </tr>\n",
       "    <tr>\n",
       "      <th>1279511</th>\n",
       "      <td>Asia</td>\n",
       "      <td>Kyrgyzstan</td>\n",
       "      <td>Cosmetics</td>\n",
       "      <td>Offline</td>\n",
       "      <td>H</td>\n",
       "      <td>2/28/2016</td>\n",
       "      <td>952044570</td>\n",
       "      <td>3/18/2016</td>\n",
       "      <td>10000</td>\n",
       "      <td>437.2</td>\n",
       "      <td>263.33</td>\n",
       "      <td>4372000.0</td>\n",
       "      <td>2633300.0</td>\n",
       "      <td>1738700.0</td>\n",
       "      <td>39.77</td>\n",
       "    </tr>\n",
       "    <tr>\n",
       "      <th>583126</th>\n",
       "      <td>Asia</td>\n",
       "      <td>Maldives</td>\n",
       "      <td>Cosmetics</td>\n",
       "      <td>Online</td>\n",
       "      <td>H</td>\n",
       "      <td>4/11/2016</td>\n",
       "      <td>340228402</td>\n",
       "      <td>5/22/2016</td>\n",
       "      <td>10000</td>\n",
       "      <td>437.2</td>\n",
       "      <td>263.33</td>\n",
       "      <td>4372000.0</td>\n",
       "      <td>2633300.0</td>\n",
       "      <td>1738700.0</td>\n",
       "      <td>39.77</td>\n",
       "    </tr>\n",
       "    <tr>\n",
       "      <th>1426741</th>\n",
       "      <td>Sub-Saharan Africa</td>\n",
       "      <td>Zambia</td>\n",
       "      <td>Cosmetics</td>\n",
       "      <td>Offline</td>\n",
       "      <td>C</td>\n",
       "      <td>6/30/2016</td>\n",
       "      <td>138959300</td>\n",
       "      <td>7/20/2016</td>\n",
       "      <td>10000</td>\n",
       "      <td>437.2</td>\n",
       "      <td>263.33</td>\n",
       "      <td>4372000.0</td>\n",
       "      <td>2633300.0</td>\n",
       "      <td>1738700.0</td>\n",
       "      <td>39.77</td>\n",
       "    </tr>\n",
       "    <tr>\n",
       "      <th>691631</th>\n",
       "      <td>Europe</td>\n",
       "      <td>Slovakia</td>\n",
       "      <td>Cosmetics</td>\n",
       "      <td>Online</td>\n",
       "      <td>M</td>\n",
       "      <td>4/29/2016</td>\n",
       "      <td>995501935</td>\n",
       "      <td>5/19/2016</td>\n",
       "      <td>10000</td>\n",
       "      <td>437.2</td>\n",
       "      <td>263.33</td>\n",
       "      <td>4372000.0</td>\n",
       "      <td>2633300.0</td>\n",
       "      <td>1738700.0</td>\n",
       "      <td>39.77</td>\n",
       "    </tr>\n",
       "    <tr>\n",
       "      <th>897995</th>\n",
       "      <td>Asia</td>\n",
       "      <td>Maldives</td>\n",
       "      <td>Cosmetics</td>\n",
       "      <td>Online</td>\n",
       "      <td>H</td>\n",
       "      <td>4/12/2016</td>\n",
       "      <td>340228402</td>\n",
       "      <td>5/23/2016</td>\n",
       "      <td>10000</td>\n",
       "      <td>437.2</td>\n",
       "      <td>263.33</td>\n",
       "      <td>4372000.0</td>\n",
       "      <td>2633300.0</td>\n",
       "      <td>1738700.0</td>\n",
       "      <td>39.77</td>\n",
       "    </tr>\n",
       "  </tbody>\n",
       "</table>\n",
       "</div>"
      ],
      "text/plain": [
       "                                    Region                           Country  \\\n",
       "969307                  Sub-Saharan Africa                       South Sudan   \n",
       "619998   Central America and the Caribbean  Saint Vincent and the Grenadines   \n",
       "942016        Middle East and North Africa              United Arab Emirates   \n",
       "275470                  Sub-Saharan Africa                           Senegal   \n",
       "1218962                 Sub-Saharan Africa                          Botswana   \n",
       "1279511                               Asia                        Kyrgyzstan   \n",
       "583126                                Asia                          Maldives   \n",
       "1426741                 Sub-Saharan Africa                            Zambia   \n",
       "691631                              Europe                          Slovakia   \n",
       "897995                                Asia                          Maldives   \n",
       "\n",
       "             IType Sales Channel Order Priority      ODate   Order ID  \\\n",
       "969307   Cosmetics       Offline              L   4/3/2016  462591636   \n",
       "619998   Cosmetics       Offline              C  2/11/2016  296771037   \n",
       "942016   Cosmetics       Offline              L   3/8/2016  829681336   \n",
       "275470   Cosmetics        Online              M  2/18/2016  174407804   \n",
       "1218962  Cosmetics       Offline              C  3/25/2016  584954869   \n",
       "1279511  Cosmetics       Offline              H  2/28/2016  952044570   \n",
       "583126   Cosmetics        Online              H  4/11/2016  340228402   \n",
       "1426741  Cosmetics       Offline              C  6/30/2016  138959300   \n",
       "691631   Cosmetics        Online              M  4/29/2016  995501935   \n",
       "897995   Cosmetics        Online              H  4/12/2016  340228402   \n",
       "\n",
       "         Ship Date  Units Sold  Unit Price  Unit Cost  Total Revenue  \\\n",
       "969307   4/30/2016       10000       437.2     263.33      4372000.0   \n",
       "619998   3/23/2016       10000       437.2     263.33      4372000.0   \n",
       "942016   4/11/2016       10000       437.2     263.33      4372000.0   \n",
       "275470   2/22/2016       10000       437.2     263.33      4372000.0   \n",
       "1218962   4/6/2016       10000       437.2     263.33      4372000.0   \n",
       "1279511  3/18/2016       10000       437.2     263.33      4372000.0   \n",
       "583126   5/22/2016       10000       437.2     263.33      4372000.0   \n",
       "1426741  7/20/2016       10000       437.2     263.33      4372000.0   \n",
       "691631   5/19/2016       10000       437.2     263.33      4372000.0   \n",
       "897995   5/23/2016       10000       437.2     263.33      4372000.0   \n",
       "\n",
       "         Total Cost  Total Profit  %margin  \n",
       "969307    2633300.0     1738700.0    39.77  \n",
       "619998    2633300.0     1738700.0    39.77  \n",
       "942016    2633300.0     1738700.0    39.77  \n",
       "275470    2633300.0     1738700.0    39.77  \n",
       "1218962   2633300.0     1738700.0    39.77  \n",
       "1279511   2633300.0     1738700.0    39.77  \n",
       "583126    2633300.0     1738700.0    39.77  \n",
       "1426741   2633300.0     1738700.0    39.77  \n",
       "691631    2633300.0     1738700.0    39.77  \n",
       "897995    2633300.0     1738700.0    39.77  "
      ]
     },
     "execution_count": 39,
     "metadata": {},
     "output_type": "execute_result"
    }
   ],
   "source": [
    "data.sort_values(\"Total Profit\", ascending=False).head(10)"
   ]
  },
  {
   "cell_type": "markdown",
   "metadata": {},
   "source": [
    "#### Machine Learning for sale prediction"
   ]
  },
  {
   "cell_type": "code",
   "execution_count": 50,
   "metadata": {},
   "outputs": [
    {
     "data": {
      "text/html": [
       "<style>#sk-container-id-1 {color: black;}#sk-container-id-1 pre{padding: 0;}#sk-container-id-1 div.sk-toggleable {background-color: white;}#sk-container-id-1 label.sk-toggleable__label {cursor: pointer;display: block;width: 100%;margin-bottom: 0;padding: 0.3em;box-sizing: border-box;text-align: center;}#sk-container-id-1 label.sk-toggleable__label-arrow:before {content: \"▸\";float: left;margin-right: 0.25em;color: #696969;}#sk-container-id-1 label.sk-toggleable__label-arrow:hover:before {color: black;}#sk-container-id-1 div.sk-estimator:hover label.sk-toggleable__label-arrow:before {color: black;}#sk-container-id-1 div.sk-toggleable__content {max-height: 0;max-width: 0;overflow: hidden;text-align: left;background-color: #f0f8ff;}#sk-container-id-1 div.sk-toggleable__content pre {margin: 0.2em;color: black;border-radius: 0.25em;background-color: #f0f8ff;}#sk-container-id-1 input.sk-toggleable__control:checked~div.sk-toggleable__content {max-height: 200px;max-width: 100%;overflow: auto;}#sk-container-id-1 input.sk-toggleable__control:checked~label.sk-toggleable__label-arrow:before {content: \"▾\";}#sk-container-id-1 div.sk-estimator input.sk-toggleable__control:checked~label.sk-toggleable__label {background-color: #d4ebff;}#sk-container-id-1 div.sk-label input.sk-toggleable__control:checked~label.sk-toggleable__label {background-color: #d4ebff;}#sk-container-id-1 input.sk-hidden--visually {border: 0;clip: rect(1px 1px 1px 1px);clip: rect(1px, 1px, 1px, 1px);height: 1px;margin: -1px;overflow: hidden;padding: 0;position: absolute;width: 1px;}#sk-container-id-1 div.sk-estimator {font-family: monospace;background-color: #f0f8ff;border: 1px dotted black;border-radius: 0.25em;box-sizing: border-box;margin-bottom: 0.5em;}#sk-container-id-1 div.sk-estimator:hover {background-color: #d4ebff;}#sk-container-id-1 div.sk-parallel-item::after {content: \"\";width: 100%;border-bottom: 1px solid gray;flex-grow: 1;}#sk-container-id-1 div.sk-label:hover label.sk-toggleable__label {background-color: #d4ebff;}#sk-container-id-1 div.sk-serial::before {content: \"\";position: absolute;border-left: 1px solid gray;box-sizing: border-box;top: 0;bottom: 0;left: 50%;z-index: 0;}#sk-container-id-1 div.sk-serial {display: flex;flex-direction: column;align-items: center;background-color: white;padding-right: 0.2em;padding-left: 0.2em;position: relative;}#sk-container-id-1 div.sk-item {position: relative;z-index: 1;}#sk-container-id-1 div.sk-parallel {display: flex;align-items: stretch;justify-content: center;background-color: white;position: relative;}#sk-container-id-1 div.sk-item::before, #sk-container-id-1 div.sk-parallel-item::before {content: \"\";position: absolute;border-left: 1px solid gray;box-sizing: border-box;top: 0;bottom: 0;left: 50%;z-index: -1;}#sk-container-id-1 div.sk-parallel-item {display: flex;flex-direction: column;z-index: 1;position: relative;background-color: white;}#sk-container-id-1 div.sk-parallel-item:first-child::after {align-self: flex-end;width: 50%;}#sk-container-id-1 div.sk-parallel-item:last-child::after {align-self: flex-start;width: 50%;}#sk-container-id-1 div.sk-parallel-item:only-child::after {width: 0;}#sk-container-id-1 div.sk-dashed-wrapped {border: 1px dashed gray;margin: 0 0.4em 0.5em 0.4em;box-sizing: border-box;padding-bottom: 0.4em;background-color: white;}#sk-container-id-1 div.sk-label label {font-family: monospace;font-weight: bold;display: inline-block;line-height: 1.2em;}#sk-container-id-1 div.sk-label-container {text-align: center;}#sk-container-id-1 div.sk-container {/* jupyter's `normalize.less` sets `[hidden] { display: none; }` but bootstrap.min.css set `[hidden] { display: none !important; }` so we also need the `!important` here to be able to override the default hidden behavior on the sphinx rendered scikit-learn.org. See: https://github.com/scikit-learn/scikit-learn/issues/21755 */display: inline-block !important;position: relative;}#sk-container-id-1 div.sk-text-repr-fallback {display: none;}</style><div id=\"sk-container-id-1\" class=\"sk-top-container\"><div class=\"sk-text-repr-fallback\"><pre>LinearRegression()</pre><b>In a Jupyter environment, please rerun this cell to show the HTML representation or trust the notebook. <br />On GitHub, the HTML representation is unable to render, please try loading this page with nbviewer.org.</b></div><div class=\"sk-container\" hidden><div class=\"sk-item\"><div class=\"sk-estimator sk-toggleable\"><input class=\"sk-toggleable__control sk-hidden--visually\" id=\"sk-estimator-id-1\" type=\"checkbox\" checked><label for=\"sk-estimator-id-1\" class=\"sk-toggleable__label sk-toggleable__label-arrow\">LinearRegression</label><div class=\"sk-toggleable__content\"><pre>LinearRegression()</pre></div></div></div></div></div>"
      ],
      "text/plain": [
       "LinearRegression()"
      ]
     },
     "execution_count": 50,
     "metadata": {},
     "output_type": "execute_result"
    }
   ],
   "source": [
    "# define; model;\n",
    "from sklearn.linear_model import LinearRegression\n",
    "\n",
    "model = LinearRegression()\n",
    "\n",
    "x = data[['Total Revenue', 'Total Cost']]\n",
    "y = data['%margin']\n",
    "\n",
    "model.fit(x,y)"
   ]
  },
  {
   "cell_type": "code",
   "execution_count": 51,
   "metadata": {},
   "outputs": [
    {
     "data": {
      "text/plain": [
       "0.5312472054977335"
      ]
     },
     "execution_count": 51,
     "metadata": {},
     "output_type": "execute_result"
    }
   ],
   "source": [
    "model.score(x,y)    # check R-square"
   ]
  },
  {
   "cell_type": "code",
   "execution_count": 52,
   "metadata": {},
   "outputs": [
    {
     "data": {
      "text/plain": [
       "array([ 3.38014940e-05, -4.75859988e-05])"
      ]
     },
     "execution_count": 52,
     "metadata": {},
     "output_type": "execute_result"
    }
   ],
   "source": [
    "model.coef_         # check coefficient"
   ]
  },
  {
   "cell_type": "code",
   "execution_count": 53,
   "metadata": {},
   "outputs": [
    {
     "data": {
      "text/plain": [
       "33.985543726584055"
      ]
     },
     "execution_count": 53,
     "metadata": {},
     "output_type": "execute_result"
    }
   ],
   "source": [
    "model.intercept_    # check intercept"
   ]
  }
 ],
 "metadata": {
  "kernelspec": {
   "display_name": "env",
   "language": "python",
   "name": "python3"
  },
  "language_info": {
   "codemirror_mode": {
    "name": "ipython",
    "version": 3
   },
   "file_extension": ".py",
   "mimetype": "text/x-python",
   "name": "python",
   "nbconvert_exporter": "python",
   "pygments_lexer": "ipython3",
   "version": "3.11.4"
  },
  "orig_nbformat": 4
 },
 "nbformat": 4,
 "nbformat_minor": 2
}
