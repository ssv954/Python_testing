{
 "cells": [
  {
   "cell_type": "markdown",
   "metadata": {},
   "source": [
    "## Day 1\n",
    "#### 1. Variable in Python"
   ]
  },
  {
   "cell_type": "code",
   "execution_count": 1,
   "metadata": {},
   "outputs": [
    {
     "name": "stdout",
     "output_type": "stream",
     "text": [
      "basicpython\n"
     ]
    },
    {
     "data": {
      "text/plain": [
       "str"
      ]
     },
     "execution_count": 1,
     "metadata": {},
     "output_type": "execute_result"
    }
   ],
   "source": [
    "space_name = 'basicpython'\n",
    "print(space_name)\n",
    "type(space_name)"
   ]
  },
  {
   "cell_type": "code",
   "execution_count": null,
   "metadata": {},
   "outputs": [],
   "source": [
    "a = 10\n",
    "b = 20.50\n",
    "\n",
    "print(a)\n",
    "print(type(a))\n",
    "print(b)\n",
    "print(type(b))\n",
    "print(a + b)\n",
    "print(type(a + b))"
   ]
  },
  {
   "cell_type": "markdown",
   "metadata": {},
   "source": [
    "#### 2. Condition"
   ]
  },
  {
   "cell_type": "code",
   "execution_count": null,
   "metadata": {},
   "outputs": [],
   "source": [
    "# if else\n",
    "n = 6\n",
    "if n < 5:\n",
    "    print('less than')\n",
    "elif n == 5:\n",
    "    print('equal')\n",
    "else:\n",
    "    print('more than')"
   ]
  },
  {
   "cell_type": "markdown",
   "metadata": {},
   "source": [
    "#### 3. Loop"
   ]
  },
  {
   "cell_type": "code",
   "execution_count": null,
   "metadata": {},
   "outputs": [],
   "source": [
    "for i in range (0, 5):\n",
    "    print(i)"
   ]
  },
  {
   "cell_type": "code",
   "execution_count": null,
   "metadata": {},
   "outputs": [],
   "source": [
    "r = 1\n",
    "while r <= 5:\n",
    "    print(\"Round\", r)\n",
    "    r += 1"
   ]
  },
  {
   "cell_type": "markdown",
   "metadata": {},
   "source": [
    "#### 4. List (Array in other program languages)"
   ]
  },
  {
   "cell_type": "code",
   "execution_count": null,
   "metadata": {},
   "outputs": [],
   "source": [
    "n = [1,6,3,9,-1]\n",
    "print(n)\n",
    "print(n[3])\n",
    "print(n[-5])"
   ]
  },
  {
   "cell_type": "code",
   "execution_count": null,
   "metadata": {},
   "outputs": [],
   "source": [
    "# for loop list\n",
    "cp = 3\n",
    "for i in n:\n",
    "    if i < cp:\n",
    "        print(i, 'less then', cp)\n",
    "    elif i == cp:\n",
    "        print(i, 'equal', cp)\n",
    "    else:\n",
    "        print(i, 'more then', cp)\n",
    "    if i % 2 == 1:\n",
    "        print(i, 'is odd number')\n",
    "    else:\n",
    "        print(i, 'is even number')"
   ]
  },
  {
   "cell_type": "markdown",
   "metadata": {},
   "source": [
    "#### 5. Dictionary (Object in other language)"
   ]
  },
  {
   "cell_type": "code",
   "execution_count": null,
   "metadata": {},
   "outputs": [],
   "source": [
    "score = {\n",
    "    'john' : 100,\n",
    "    'janny' : 90,\n",
    "    'jj' : 95,\n",
    "    'joe' : 80,\n",
    "    'java' : 45\n",
    "}\n",
    "print(score)\n",
    "print(score['john'])"
   ]
  },
  {
   "cell_type": "code",
   "execution_count": null,
   "metadata": {},
   "outputs": [],
   "source": [
    "fail = 49\n",
    "for n in score.keys():\n",
    "    print(n)\n",
    "for n in score.values():\n",
    "    print(n)\n",
    "for k, vl in score.items():\n",
    "    print(k, vl)"
   ]
  },
  {
   "cell_type": "markdown",
   "metadata": {},
   "source": [
    "#### 6. Sets (like list but cannot duplicate value and not order)"
   ]
  },
  {
   "cell_type": "code",
   "execution_count": null,
   "metadata": {},
   "outputs": [],
   "source": [
    "sarr = {1 , 5, 5, 8, -1, 'gg', 13, 1}\n",
    "print(sarr)\n",
    "for si in sarr:\n",
    "    print(si)"
   ]
  },
  {
   "cell_type": "markdown",
   "metadata": {},
   "source": [
    "#### 7. Function in Python"
   ]
  },
  {
   "cell_type": "code",
   "execution_count": null,
   "metadata": {},
   "outputs": [],
   "source": [
    "def checkgrade(n):\n",
    "    for a in n:\n",
    "        if type(a) == int:\n",
    "            if a > 9:\n",
    "                print(a, 'A')\n",
    "            elif a >= 5:\n",
    "                print(a, 'B')\n",
    "            else:\n",
    "                print(a, 'F')\n",
    "        else:\n",
    "            print(a, 'not acceptable')\n",
    "   \n",
    "def area(w=0, h=0):\n",
    "    return w * h\n",
    "\n",
    "arr = {1 , 5, 5, 8, -1, 'gg', 13, 1}\n",
    "checkgrade(arr)\n",
    "\n",
    "print(area(6, 8))"
   ]
  },
  {
   "cell_type": "markdown",
   "metadata": {},
   "source": [
    "#### 8. Call Modules in other files"
   ]
  },
  {
   "cell_type": "code",
   "execution_count": 2,
   "metadata": {},
   "outputs": [
    {
     "name": "stdout",
     "output_type": "stream",
     "text": [
      "12\n",
      "32\n",
      "8 B\n",
      "4 F\n",
      "1 F\n",
      "9 B\n",
      "10 A\n",
      "8.5 not acceptable\n"
     ]
    }
   ],
   "source": [
    "from modules import *\n",
    "\n",
    "print(c_plus(4 , 8))\n",
    "print(c_area(4 , 8))\n",
    "c_checkgrade([8, 4, 1, 9, 10, 8.5])"
   ]
  },
  {
   "cell_type": "markdown",
   "metadata": {},
   "source": [
    "#### 9. Call Library from Outside"
   ]
  },
  {
   "cell_type": "code",
   "execution_count": 4,
   "metadata": {},
   "outputs": [],
   "source": [
    "import qrcode\n",
    "\n",
    "# create qr code\n",
    "img = qrcode.make('https://www.youtube.com/results?search_query=ielts+band+9+writing')\n",
    "type(img)\n",
    "img.save('qrcode.png')"
   ]
  },
  {
   "cell_type": "code",
   "execution_count": 5,
   "metadata": {},
   "outputs": [
    {
     "name": "stdout",
     "output_type": "stream",
     "text": [
      "QR code generator Program\n",
      "Please type 'quit' to exit\n",
      "Invalid product code\n",
      "Invalid product code\n",
      "QR code of q12ge  has been gen\n",
      "QR code of 12eqg  has been gen\n",
      "QR code of 389qg  has been gen\n",
      "Invalid product code\n",
      "Now you are exit, Thank you\n"
     ]
    }
   ],
   "source": [
    "import qrcode\n",
    "# create qr code\n",
    "print(\"QR code generator Program\")\n",
    "print(\"Please type 'quit' to exit\")\n",
    "\n",
    "while True:\n",
    "    pro_data = input(\"Please input your product code: \")\n",
    "    if pro_data == 'quit':\n",
    "        print(\"Now you are exit, Thank you\")\n",
    "        break\n",
    "    if len(pro_data) == 5:\n",
    "        img = qrcode.make(pro_data)\n",
    "        type(img)\n",
    "        img.save(f'qrcode_product/{pro_data}.png')\n",
    "        print(\"QR code of\", pro_data, \" has been gen\")\n",
    "    else:\n",
    "        print(\"Invalid product code\")\n",
    "        continue\n",
    "    "
   ]
  }
 ],
 "metadata": {
  "kernelspec": {
   "display_name": "env",
   "language": "python",
   "name": "python3"
  },
  "language_info": {
   "codemirror_mode": {
    "name": "ipython",
    "version": 3
   },
   "file_extension": ".py",
   "mimetype": "text/x-python",
   "name": "python",
   "nbconvert_exporter": "python",
   "pygments_lexer": "ipython3",
   "version": "3.11.4"
  },
  "orig_nbformat": 4
 },
 "nbformat": 4,
 "nbformat_minor": 2
}
