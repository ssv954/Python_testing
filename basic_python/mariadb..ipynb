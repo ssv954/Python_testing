{
 "cells": [
  {
   "cell_type": "markdown",
   "metadata": {},
   "source": [
    "## Day 2\n",
    "\n",
    "#### Import require libraries"
   ]
  },
  {
   "cell_type": "code",
   "execution_count": 1,
   "metadata": {},
   "outputs": [],
   "source": [
    "import pymysql\n",
    "\n",
    "from modules import connectdb as conn\n"
   ]
  },
  {
   "cell_type": "markdown",
   "metadata": {},
   "source": [
    "#### Create Table"
   ]
  },
  {
   "cell_type": "code",
   "execution_count": 2,
   "metadata": {},
   "outputs": [
    {
     "name": "stdout",
     "output_type": "stream",
     "text": [
      "Table created successfully\n"
     ]
    }
   ],
   "source": [
    "def create_table():\n",
    "    connection = conn.connectmariadb()\n",
    "    cursor = connection.cursor()\n",
    "\n",
    "    sql = \"\"\"CREATE TABLE person (\n",
    "                id INT AUTO_INCREMENT PRIMARY KEY,\n",
    "                name VARCHAR(64),\n",
    "                address VARCHAR(255)\n",
    "            )\"\"\"\n",
    "    \n",
    "    try:\n",
    "        cursor.execute(sql)\n",
    "        print('Table created successfully')\n",
    "    except pymysql.error:\n",
    "        print('Cannot connect to Database due to:', pymysql.error)\n",
    "\n",
    "create_table()"
   ]
  },
  {
   "cell_type": "markdown",
   "metadata": {},
   "source": [
    "#### Insert Data"
   ]
  },
  {
   "cell_type": "code",
   "execution_count": 5,
   "metadata": {},
   "outputs": [
    {
     "name": "stdout",
     "output_type": "stream",
     "text": [
      "Insert data of Bill Tanmixay successfully\n"
     ]
    }
   ],
   "source": [
    "def insert_data(name = \"\", addr = \"\"):\n",
    "    connection = conn.connectmariadb()\n",
    "    cursor = connection.cursor()\n",
    "\n",
    "    sql = f\"\"\"INSERT INTO person (name, address)\n",
    "            VALUES('{name}', '{addr}')\"\"\"\n",
    "    \n",
    "    try:\n",
    "        cursor.execute(sql)\n",
    "        connection.commit()\n",
    "        print('Insert data of', name, addr, 'successfully')\n",
    "    except pymysql.error:\n",
    "        print('Cannot insert data due to:', pymysql.error)\n",
    "\n",
    "insert_data('Bill', 'Tanmixay')"
   ]
  },
  {
   "cell_type": "markdown",
   "metadata": {},
   "source": [
    "#### Show Data"
   ]
  },
  {
   "cell_type": "code",
   "execution_count": 10,
   "metadata": {},
   "outputs": [
    {
     "name": "stdout",
     "output_type": "stream",
     "text": [
      "ID = 1 , Name = Peter , Address = Vientiane\n",
      "---------\n",
      "ID = 2 , Name = Aonny , Address = Paksan\n",
      "---------\n",
      "ID = 3 , Name = Bill , Address = Tanmixay\n",
      "---------\n"
     ]
    }
   ],
   "source": [
    "def show_data():\n",
    "    connection = conn.connectmariadb()\n",
    "    cursor = connection.cursor()\n",
    "\n",
    "    sql = \"SELECT * FROM person ORDER BY id\"\n",
    "    \n",
    "    try:\n",
    "        cursor.execute(sql)\n",
    "        connection.commit()\n",
    "        \n",
    "        for i in cursor:\n",
    "            print('ID =', i['id'], ', Name =', i['name'], ', Address =', i['address'])\n",
    "            print('---------')\n",
    "    except pymysql.error:\n",
    "        print('Cannot show data due to:', pymysql.error)\n",
    "\n",
    "show_data()"
   ]
  }
 ],
 "metadata": {
  "kernelspec": {
   "display_name": "env",
   "language": "python",
   "name": "python3"
  },
  "language_info": {
   "codemirror_mode": {
    "name": "ipython",
    "version": 3
   },
   "file_extension": ".py",
   "mimetype": "text/x-python",
   "name": "python",
   "nbconvert_exporter": "python",
   "pygments_lexer": "ipython3",
   "version": "3.11.4"
  },
  "orig_nbformat": 4
 },
 "nbformat": 4,
 "nbformat_minor": 2
}
