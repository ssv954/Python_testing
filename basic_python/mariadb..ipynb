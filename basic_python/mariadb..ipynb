{
 "cells": [
  {
   "cell_type": "markdown",
   "metadata": {},
   "source": [
    "## Day 2\n",
    "\n",
    "#### Import require libraries"
   ]
  },
  {
   "cell_type": "code",
   "execution_count": 1,
   "metadata": {},
   "outputs": [],
   "source": [
    "import pymysql\n",
    "\n",
    "from modules import connectdb as conn\n"
   ]
  },
  {
   "cell_type": "markdown",
   "metadata": {},
   "source": [
    "#### Create Table"
   ]
  },
  {
   "cell_type": "code",
   "execution_count": 2,
   "metadata": {},
   "outputs": [
    {
     "name": "stdout",
     "output_type": "stream",
     "text": [
      "Table created successfully\n"
     ]
    }
   ],
   "source": [
    "import pymysql\n",
    "\n",
    "from modules import connectdb as conn\n",
    "\n",
    "def create_table():\n",
    "    connection = conn.connectmariadb()\n",
    "    cursor = connection.cursor()\n",
    "\n",
    "    sql = \"\"\"CREATE TABLE person (\n",
    "                id INT AUTO_INCREMENT PRIMARY KEY,\n",
    "                name VARCHAR(64),\n",
    "                address VARCHAR(255)\n",
    "            )\"\"\"\n",
    "    \n",
    "    try:\n",
    "        cursor.execute(sql)\n",
    "        print('Table created successfully')\n",
    "    except pymysql.error:\n",
    "        print('Cannot connect to Database due to:', pymysql.error)\n",
    "\n",
    "create_table()"
   ]
  }
 ],
 "metadata": {
  "kernelspec": {
   "display_name": "env",
   "language": "python",
   "name": "python3"
  },
  "language_info": {
   "codemirror_mode": {
    "name": "ipython",
    "version": 3
   },
   "file_extension": ".py",
   "mimetype": "text/x-python",
   "name": "python",
   "nbconvert_exporter": "python",
   "pygments_lexer": "ipython3",
   "version": "3.11.4"
  },
  "orig_nbformat": 4
 },
 "nbformat": 4,
 "nbformat_minor": 2
}
