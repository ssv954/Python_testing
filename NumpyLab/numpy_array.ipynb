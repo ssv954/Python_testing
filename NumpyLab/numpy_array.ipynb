{
 "cells": [
  {
   "cell_type": "markdown",
   "metadata": {},
   "source": [
    "#### Step 1: Check if library name 'numpy' is installed or not?"
   ]
  },
  {
   "cell_type": "code",
   "execution_count": 3,
   "metadata": {},
   "outputs": [
    {
     "name": "stdout",
     "output_type": "stream",
     "text": [
      "Name: numpy\n",
      "Version: 1.25.2\n",
      "Summary: Fundamental package for array computing in Python\n",
      "Home-page: https://www.numpy.org\n",
      "Author: Travis E. Oliphant et al.\n",
      "Author-email: \n",
      "License: BSD-3-Clause\n",
      "Location: d:\\Document\\Programer\\Python Training\\Projects\\Python_testing\\env\\Lib\\site-packages\n",
      "Requires: \n",
      "Required-by: \n",
      "Note: you may need to restart the kernel to use updated packages.\n"
     ]
    }
   ],
   "source": [
    "pip show numpy"
   ]
  },
  {
   "cell_type": "markdown",
   "metadata": {},
   "source": [
    "#### Step 2: Install Numpy"
   ]
  },
  {
   "cell_type": "code",
   "execution_count": 2,
   "metadata": {},
   "outputs": [
    {
     "name": "stdout",
     "output_type": "stream",
     "text": [
      "Collecting numpy\n",
      "  Downloading numpy-1.25.2-cp311-cp311-win_amd64.whl (15.5 MB)\n",
      "                                              0.0/15.5 MB ? eta -:--:--\n",
      "                                              0.3/15.5 MB 6.0 MB/s eta 0:00:03\n",
      "     -                                        0.6/15.5 MB 6.5 MB/s eta 0:00:03\n",
      "     --                                       1.1/15.5 MB 8.4 MB/s eta 0:00:02\n",
      "     ----                                     1.6/15.5 MB 9.1 MB/s eta 0:00:02\n",
      "     -----                                    2.1/15.5 MB 9.7 MB/s eta 0:00:02\n",
      "     -------                                  2.9/15.5 MB 11.4 MB/s eta 0:00:02\n",
      "     ---------                                3.6/15.5 MB 12.2 MB/s eta 0:00:01\n",
      "     ----------                               4.0/15.5 MB 11.7 MB/s eta 0:00:01\n",
      "     ----------                               4.1/15.5 MB 11.0 MB/s eta 0:00:02\n",
      "     -----------                              4.3/15.5 MB 9.8 MB/s eta 0:00:02\n",
      "     -----------                              4.5/15.5 MB 9.5 MB/s eta 0:00:02\n",
      "     -----------                              4.6/15.5 MB 8.9 MB/s eta 0:00:02\n",
      "     ------------                             4.8/15.5 MB 8.5 MB/s eta 0:00:02\n",
      "     ------------                             4.9/15.5 MB 8.1 MB/s eta 0:00:02\n",
      "     ------------                             5.0/15.5 MB 7.7 MB/s eta 0:00:02\n",
      "     -------------                            5.2/15.5 MB 7.5 MB/s eta 0:00:02\n",
      "     -------------                            5.3/15.5 MB 7.3 MB/s eta 0:00:02\n",
      "     --------------                           5.5/15.5 MB 7.0 MB/s eta 0:00:02\n",
      "     --------------                           5.6/15.5 MB 6.8 MB/s eta 0:00:02\n",
      "     --------------                           5.8/15.5 MB 6.6 MB/s eta 0:00:02\n",
      "     ---------------                          6.0/15.5 MB 6.6 MB/s eta 0:00:02\n",
      "     ---------------                          6.2/15.5 MB 6.5 MB/s eta 0:00:02\n",
      "     ----------------                         6.3/15.5 MB 6.3 MB/s eta 0:00:02\n",
      "     ----------------                         6.5/15.5 MB 6.3 MB/s eta 0:00:02\n",
      "     -----------------                        6.6/15.5 MB 6.1 MB/s eta 0:00:02\n",
      "     -----------------                        6.8/15.5 MB 6.0 MB/s eta 0:00:02\n",
      "     -----------------                        6.9/15.5 MB 5.9 MB/s eta 0:00:02\n",
      "     ------------------                       7.0/15.5 MB 5.8 MB/s eta 0:00:02\n",
      "     ------------------                       7.2/15.5 MB 5.7 MB/s eta 0:00:02\n",
      "     ------------------                       7.3/15.5 MB 5.6 MB/s eta 0:00:02\n",
      "     -------------------                      7.5/15.5 MB 5.6 MB/s eta 0:00:02\n",
      "     -------------------                      7.7/15.5 MB 5.6 MB/s eta 0:00:02\n",
      "     --------------------                     7.9/15.5 MB 5.5 MB/s eta 0:00:02\n",
      "     --------------------                     8.0/15.5 MB 5.5 MB/s eta 0:00:02\n",
      "     --------------------                     8.1/15.5 MB 5.3 MB/s eta 0:00:02\n",
      "     ---------------------                    8.3/15.5 MB 5.3 MB/s eta 0:00:02\n",
      "     ---------------------                    8.4/15.5 MB 5.3 MB/s eta 0:00:02\n",
      "     ----------------------                   8.6/15.5 MB 5.2 MB/s eta 0:00:02\n",
      "     ----------------------                   8.8/15.5 MB 5.2 MB/s eta 0:00:02\n",
      "     -----------------------                  8.9/15.5 MB 5.2 MB/s eta 0:00:02\n",
      "     -----------------------                  9.1/15.5 MB 5.1 MB/s eta 0:00:02\n",
      "     -----------------------                  9.2/15.5 MB 5.1 MB/s eta 0:00:02\n",
      "     ------------------------                 9.4/15.5 MB 5.0 MB/s eta 0:00:02\n",
      "     ------------------------                 9.5/15.5 MB 5.0 MB/s eta 0:00:02\n",
      "     -------------------------                9.7/15.5 MB 5.0 MB/s eta 0:00:02\n",
      "     -------------------------                9.9/15.5 MB 4.9 MB/s eta 0:00:02\n",
      "     -------------------------                10.0/15.5 MB 4.9 MB/s eta 0:00:02\n",
      "     --------------------------               10.2/15.5 MB 4.9 MB/s eta 0:00:02\n",
      "     --------------------------               10.3/15.5 MB 4.8 MB/s eta 0:00:02\n",
      "     --------------------------               10.5/15.5 MB 4.8 MB/s eta 0:00:02\n",
      "     ---------------------------              10.6/15.5 MB 4.8 MB/s eta 0:00:02\n",
      "     ---------------------------              10.8/15.5 MB 4.7 MB/s eta 0:00:02\n",
      "     ----------------------------             10.9/15.5 MB 4.7 MB/s eta 0:00:01\n",
      "     ----------------------------             11.1/15.5 MB 4.6 MB/s eta 0:00:01\n",
      "     ----------------------------             11.2/15.5 MB 4.5 MB/s eta 0:00:01\n",
      "     -----------------------------            11.4/15.5 MB 4.5 MB/s eta 0:00:01\n",
      "     -----------------------------            11.5/15.5 MB 4.4 MB/s eta 0:00:01\n",
      "     ------------------------------           11.7/15.5 MB 4.4 MB/s eta 0:00:01\n",
      "     ------------------------------           11.8/15.5 MB 4.3 MB/s eta 0:00:01\n",
      "     ------------------------------           12.0/15.5 MB 4.3 MB/s eta 0:00:01\n",
      "     -------------------------------          12.2/15.5 MB 4.2 MB/s eta 0:00:01\n",
      "     -------------------------------          12.3/15.5 MB 4.1 MB/s eta 0:00:01\n",
      "     --------------------------------         12.5/15.5 MB 4.1 MB/s eta 0:00:01\n",
      "     --------------------------------         12.6/15.5 MB 4.0 MB/s eta 0:00:01\n",
      "     --------------------------------         12.8/15.5 MB 4.0 MB/s eta 0:00:01\n",
      "     ---------------------------------        12.9/15.5 MB 3.9 MB/s eta 0:00:01\n",
      "     ---------------------------------        13.1/15.5 MB 3.9 MB/s eta 0:00:01\n",
      "     ---------------------------------        13.2/15.5 MB 3.8 MB/s eta 0:00:01\n",
      "     ----------------------------------       13.4/15.5 MB 3.8 MB/s eta 0:00:01\n",
      "     ----------------------------------       13.5/15.5 MB 3.7 MB/s eta 0:00:01\n",
      "     -----------------------------------      13.7/15.5 MB 3.7 MB/s eta 0:00:01\n",
      "     -----------------------------------      13.8/15.5 MB 3.6 MB/s eta 0:00:01\n",
      "     ------------------------------------     14.0/15.5 MB 3.6 MB/s eta 0:00:01\n",
      "     ------------------------------------     14.1/15.5 MB 3.6 MB/s eta 0:00:01\n",
      "     ------------------------------------     14.3/15.5 MB 3.6 MB/s eta 0:00:01\n",
      "     -------------------------------------    14.4/15.5 MB 3.6 MB/s eta 0:00:01\n",
      "     -------------------------------------    14.6/15.5 MB 3.6 MB/s eta 0:00:01\n",
      "     -------------------------------------    14.7/15.5 MB 3.6 MB/s eta 0:00:01\n",
      "     --------------------------------------   14.9/15.5 MB 3.6 MB/s eta 0:00:01\n",
      "     --------------------------------------   15.1/15.5 MB 3.5 MB/s eta 0:00:01\n",
      "     ---------------------------------------  15.2/15.5 MB 3.6 MB/s eta 0:00:01\n",
      "     ---------------------------------------  15.4/15.5 MB 3.6 MB/s eta 0:00:01\n",
      "     ---------------------------------------  15.5/15.5 MB 3.6 MB/s eta 0:00:01\n",
      "     ---------------------------------------- 15.5/15.5 MB 3.5 MB/s eta 0:00:00\n",
      "Installing collected packages: numpy\n",
      "Successfully installed numpy-1.25.2\n",
      "Note: you may need to restart the kernel to use updated packages.\n"
     ]
    },
    {
     "name": "stderr",
     "output_type": "stream",
     "text": [
      "\n",
      "[notice] A new release of pip is available: 23.1.2 -> 23.2.1\n",
      "[notice] To update, run: python.exe -m pip install --upgrade pip\n"
     ]
    }
   ],
   "source": [
    "pip install numpy"
   ]
  },
  {
   "cell_type": "markdown",
   "metadata": {},
   "source": [
    "#### Step 3: Create array in Numpy"
   ]
  },
  {
   "cell_type": "code",
   "execution_count": 16,
   "metadata": {},
   "outputs": [
    {
     "name": "stdout",
     "output_type": "stream",
     "text": [
      "10\n",
      "[1 2 3]\n",
      "[[1 2 3]\n",
      " [2 2 3]\n",
      " [3 2 3]]\n"
     ]
    }
   ],
   "source": [
    "import numpy as np\n",
    "\n",
    "a = np.array(10)                                        # scalar array 1 row & 3 column\n",
    "print(a)\n",
    "\n",
    "row = np.array([1, 2, 3])                               # vector array 1 row & 3 column\n",
    "print(row)\n",
    "\n",
    "mat = np.array([[1, 2, 3],[2, 2, 3], [3, 2, 3]])        # matrix array: 3 row & 3 column\n",
    "print(mat)\n",
    "\n"
   ]
  },
  {
   "cell_type": "markdown",
   "metadata": {},
   "source": [
    "#### Step 4: Create random"
   ]
  },
  {
   "cell_type": "code",
   "execution_count": 60,
   "metadata": {},
   "outputs": [
    {
     "name": "stdout",
     "output_type": "stream",
     "text": [
      "[0.57997923 0.24706368 0.43897895 0.63151259 0.90002764]\n",
      "[[0.95294622 0.50916994 0.73394267]\n",
      " [0.35277626 0.21190684 0.49561748]]\n",
      "[1 1 3 0 1 1]\n",
      "[[ 3  5 10]\n",
      " [ 2  4  9]]\n"
     ]
    }
   ],
   "source": [
    "r1 = np.random.random(5)                    # random 5 dimension\n",
    "r2 = np.random.random([2, 3])               # random matrix 2 x 3\n",
    "print(r1)\n",
    "print(r2)\n",
    "\n",
    "r3 = np.random.randint(0, 11, 6)            # random int from 0 to >11, 6 dimension\n",
    "r4 = np.random.randint(0, 11, [2, 3])       # random int from 0 to >11, 2 x 3 dimension\n",
    "print(r3)\n",
    "print(r4)"
   ]
  },
  {
   "cell_type": "markdown",
   "metadata": {},
   "source": [
    "#### Step 5: Access and Selected array"
   ]
  },
  {
   "cell_type": "code",
   "execution_count": 70,
   "metadata": {},
   "outputs": [
    {
     "name": "stdout",
     "output_type": "stream",
     "text": [
      "4\n",
      "[3 4 5 6 7]\n",
      "10\n",
      "[1 2 3 4]\n",
      "[ 7  8  9 10]\n"
     ]
    }
   ],
   "source": [
    "vrow = np.array([1, 2, 3, 4, 5, 6, 7, 8, 9, 10])\n",
    "print(vrow[3])          # select index\n",
    "print(vrow[2:7])        # select by range from and to index\n",
    "print(vrow[-1])         # select reversal index\n",
    "print(vrow[:4])         # select by range from begin to index\n",
    "print(vrow[-4:])        # select by range from reversal index to last"
   ]
  },
  {
   "cell_type": "markdown",
   "metadata": {},
   "source": [
    "#### Step 6: Find Statistic value with Numpy"
   ]
  },
  {
   "cell_type": "code",
   "execution_count": 80,
   "metadata": {},
   "outputs": [
    {
     "name": "stdout",
     "output_type": "stream",
     "text": [
      "[[ 1  2  3  4]\n",
      " [ 5  6  7  8]\n",
      " [ 9 10 11 12]]\n",
      "Max is 12\n",
      "Min is 1\n",
      "Average is 6.5\n",
      "Median is 6.5\n",
      "Standard is 3.452052529534663\n",
      "Variant is 11.916666666666666\n"
     ]
    }
   ],
   "source": [
    "stat = np.array([[1, 2, 3, 4], [5, 6, 7, 8], [9, 10, 11, 12]])\n",
    "print(stat)\n",
    "\n",
    "print('Max is', np.max(stat));     # find max value\n",
    "print('Min is', np.min(stat));     # find min value\n",
    "print('Average is', np.mean(stat));     # find average value\n",
    "print('Median is', np.median(stat));     # find median value\n",
    "print('Standard is', np.std(stat));     # find standard value\n",
    "print('Variant is', np.var(stat));     # find variant value"
   ]
  }
 ],
 "metadata": {
  "kernelspec": {
   "display_name": "env",
   "language": "python",
   "name": "python3"
  },
  "language_info": {
   "codemirror_mode": {
    "name": "ipython",
    "version": 3
   },
   "file_extension": ".py",
   "mimetype": "text/x-python",
   "name": "python",
   "nbconvert_exporter": "python",
   "pygments_lexer": "ipython3",
   "version": "3.11.4"
  },
  "orig_nbformat": 4
 },
 "nbformat": 4,
 "nbformat_minor": 2
}
